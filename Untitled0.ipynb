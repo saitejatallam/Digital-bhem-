{
  "nbformat": 4,
  "nbformat_minor": 0,
  "metadata": {
    "colab": {
      "provenance": [],
      "authorship_tag": "ABX9TyMIZ/5bA1ge3DvnFQNm+DSC",
      "include_colab_link": true
    },
    "kernelspec": {
      "name": "python3",
      "display_name": "Python 3"
    },
    "language_info": {
      "name": "python"
    }
  },
  "cells": [
    {
      "cell_type": "markdown",
      "metadata": {
        "id": "view-in-github",
        "colab_type": "text"
      },
      "source": [
        "<a href=\"https://colab.research.google.com/github/saitejatallam/Digital-bhem-/blob/main/Untitled0.ipynb\" target=\"_parent\"><img src=\"https://colab.research.google.com/assets/colab-badge.svg\" alt=\"Open In Colab\"/></a>"
      ]
    },
    {
      "cell_type": "code",
      "execution_count": null,
      "metadata": {
        "id": "F62q1OntqOjc"
      },
      "outputs": [],
      "source": [
        "import pandas as pd\n",
        "import numpy as np\n",
        "import matplotlib.pyplot as plt\n",
        "from pandas import read_csv\n",
        "path=\"/content/drive/MyDrive/energy.csv\"\n",
        "electricity=pd.read_csv(path)\n",
        "print(electricity)\n",
        "print(electricity.head(5))\n",
        "print(electricity.tail(4))\n",
        "print(electricity.info())\n",
        "print(\"column data\")\n",
        "print(electricity.columns)\n",
        "print(electricity[electricity['State'].str.startswith('M')])\n",
        "print(electricity[electricity['State'].str.endswith('a')])\n",
        "rcb=electricity[electricity['State']=='andhra']\n",
        "rcb=electricity[electricity['State']=='Manipur']\n",
        "print(len(rcb))\n",
        "print(electricity.sort_values(by='State'))\n",
        "print(electricity.sort_values(by='Consumption'))\n",
        "print(np.max(electricity['Consumption']))\n",
        "print(np.min(electricity['Consumption']))\n",
        "print(np.mean(electricity['Consumption']))\n",
        "print(electricity[electricity['State']=='Telangana']['Consumption'].max())\n",
        "print(electricity[electricity['State']=='Telangana']['Consumption'].min())\n",
        "\n",
        "print(electricity[electricity['State']=='Telengana']['Consumption'].max())\n",
        "print(electricity[electricity['State']=='Telengana']['Consumption'].min())\n",
        "\n",
        "\n",
        "\n",
        "state1_data=electricity[electricity.State=='Andhra']\n",
        "print(\"Andhra data\")\n",
        "print(state1_data)\n",
        "state2_data=electricity[electricity['State']=='Karnataka']\n",
        "print(\"Karnataka\")\n",
        "print(state2_data)\n",
        "state4_data=electricity[electricity['State']=='Telengana']\n",
        "print(\"Telengana\")\n",
        "print(state4_data)\n",
        "state5_data=electricity[electricity['State']=='Tripura']\n",
        "print(\"Tripura\")\n",
        "print(state5_data)\n",
        "\n",
        "\n",
        "\n",
        "\n",
        "fig,axes=plt.subplots(2)\n",
        "axes[0].plot(state1_data['Date'],state1_data['Consumption'],marker='*',color='red')\n",
        "axes[1].plot(state2_data['Date'],state2_data['Consumption'],marker='^',color='yellow')\n",
        "plt.show()\n",
        "\n",
        "\n",
        "\n",
        "fig1,axes1=plt.subplots(2)\n",
        "axes1[0].bar(state4_data['Date'],state4_data['Consumption'],color='red')\n",
        "axes1[1].bar(state5_data['Date'],state5_data['Consumption'],color='blue')\n",
        "plt.show()"
      ]
    }
  ]
}